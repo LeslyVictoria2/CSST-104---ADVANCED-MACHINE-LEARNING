{
  "nbformat": 4,
  "nbformat_minor": 0,
  "metadata": {
    "colab": {
      "provenance": [],
      "authorship_tag": "ABX9TyNsJ1/NK0zQsr1blvM1Fqn5",
      "include_colab_link": true
    },
    "kernelspec": {
      "name": "python3",
      "display_name": "Python 3"
    },
    "language_info": {
      "name": "python"
    }
  },
  "cells": [
    {
      "cell_type": "markdown",
      "metadata": {
        "id": "view-in-github",
        "colab_type": "text"
      },
      "source": [
        "<a href=\"https://colab.research.google.com/github/LeslyVictoria2/CSST-104---ADVANCED-MACHINE-LEARNING/blob/main/3B_VICTORIA_LAB3.ipynb\" target=\"_parent\"><img src=\"https://colab.research.google.com/assets/colab-badge.svg\" alt=\"Open In Colab\"/></a>"
      ]
    },
    {
      "cell_type": "markdown",
      "source": [
        "# **CSST 104 - ADVANCED MACHINE LEARNING**"
      ],
      "metadata": {
        "id": "WbzkVsZ-HaKW"
      }
    },
    {
      "cell_type": "markdown",
      "source": [
        "**LESLY-ANN B. VICTORIA from BSCS-IS-3B - LABORATORY 3**"
      ],
      "metadata": {
        "id": "AwBh9vmMbM2X"
      }
    },
    {
      "cell_type": "markdown",
      "source": [
        "**\"SIMPLE LINEAR REGRESSION\"**"
      ],
      "metadata": {
        "id": "p_nNbO9qHeoV"
      }
    },
    {
      "cell_type": "markdown",
      "source": [
        "**1. Importing Libraries:**"
      ],
      "metadata": {
        "id": "KZIZzklDKJwf"
      }
    },
    {
      "cell_type": "code",
      "execution_count": null,
      "metadata": {
        "id": "a9LomahhHKCR"
      },
      "outputs": [],
      "source": [
        "import pandas as pd #Data Manupilation\n",
        "import numpy as np #Mathematical or Numerical Operation\n",
        "import matplotlib.pyplot as plt #Data Visualization\n",
        "from sklearn.linear_model import LinearRegression #Training Data Modeling"
      ]
    },
    {
      "cell_type": "markdown",
      "source": [
        "**2. Generating Random Data:**"
      ],
      "metadata": {
        "id": "YgfZs432LEl_"
      }
    },
    {
      "cell_type": "code",
      "source": [
        "num_points = 50 #How many data points\n",
        "\n",
        "x = np.random.randint(0,100,num_points)\n",
        "y = 2 * x + np.random.normal(0,10,num_points)"
      ],
      "metadata": {
        "id": "usxt_q1lL6Cm"
      },
      "execution_count": null,
      "outputs": []
    },
    {
      "cell_type": "markdown",
      "source": [
        "**3. Create DataFrame and Saving to CSV:**"
      ],
      "metadata": {
        "id": "HnVZ6Gr9M3Iw"
      }
    },
    {
      "cell_type": "code",
      "source": [
        "data = pd.DataFrame({'x':x, 'y':y})\n",
        "\n",
        "data.to_csv('data.csv',index=False)\n",
        "\n",
        "print(data.head(50))"
      ],
      "metadata": {
        "colab": {
          "base_uri": "https://localhost:8080/"
        },
        "id": "p6LISnTdM-mE",
        "outputId": "daeb05f6-1fa9-4257-fbfb-3a784b4c4488"
      },
      "execution_count": null,
      "outputs": [
        {
          "output_type": "stream",
          "name": "stdout",
          "text": [
            "     x           y\n",
            "0    5   11.354607\n",
            "1   24   44.845169\n",
            "2   64  132.853344\n",
            "3    3   -4.707154\n",
            "4   39   64.502781\n",
            "5   92  198.539274\n",
            "6   96  186.630960\n",
            "7   92  187.006728\n",
            "8   93  179.606534\n",
            "9   12   28.639178\n",
            "10  91  188.877827\n",
            "11  94  190.010701\n",
            "12  48   94.067059\n",
            "13  35   98.412743\n",
            "14  91  184.377296\n",
            "15  24   58.178475\n",
            "16  51  112.008131\n",
            "17  13   33.872810\n",
            "18  90  186.732488\n",
            "19  18   27.683477\n",
            "20  26   50.507778\n",
            "21  82  169.763115\n",
            "22  37   90.609141\n",
            "23   9   11.244114\n",
            "24  14   26.472738\n",
            "25  55  106.621883\n",
            "26  51  103.296149\n",
            "27   3   -1.775817\n",
            "28  51  100.116787\n",
            "29  53  112.987063\n",
            "30  64  130.235005\n",
            "31  54  109.689408\n",
            "32  33   45.138686\n",
            "33   3    0.165304\n",
            "34  30   60.477478\n",
            "35  67  126.280287\n",
            "36  38   90.581180\n",
            "37  20   39.533773\n",
            "38  18   14.445298\n",
            "39  77  164.250712\n",
            "40  88  178.755492\n",
            "41  91  181.618054\n",
            "42  91  187.371316\n",
            "43  97  203.324838\n",
            "44  66  128.381772\n",
            "45  35   64.245371\n",
            "46  57  103.735795\n",
            "47  50   97.161112\n",
            "48  22   34.114568\n",
            "49  88  190.081073\n"
          ]
        }
      ]
    },
    {
      "cell_type": "markdown",
      "source": [
        "**4. Visualizing the Data:**"
      ],
      "metadata": {
        "id": "MUzZNaNjNwgt"
      }
    },
    {
      "cell_type": "code",
      "source": [
        "plt.scatter(data['x'], data['y'])\n",
        "plt.xlabel('Independent Variable (X)')\n",
        "plt.ylabel('Dependent Variable (Y)')\n",
        "plt.title('Scatter Plot of Data')\n",
        "plt.show()"
      ],
      "metadata": {
        "colab": {
          "base_uri": "https://localhost:8080/",
          "height": 472
        },
        "id": "bBkanMLdOzTj",
        "outputId": "c017c1ea-3d59-46aa-930a-d981b508a3fb"
      },
      "execution_count": null,
      "outputs": [
        {
          "output_type": "display_data",
          "data": {
            "text/plain": [
              "<Figure size 640x480 with 1 Axes>"
            ],
            "image/png": "[encoded data removed]"
          },
          "metadata": {}
        }
      ]
    },
    {
      "cell_type": "markdown",
      "source": [
        "**5. Preparing Data for Modeling:**"
      ],
      "metadata": {
        "id": "8IL7pXbnQnvF"
      }
    },
    {
      "cell_type": "code",
      "source": [
        "x = data[['x']]\n",
        "y = data[['y']]"
      ],
      "metadata": {
        "id": "_zlGRjlvQ_GJ"
      },
      "execution_count": null,
      "outputs": []
    },
    {
      "cell_type": "markdown",
      "source": [
        "**6. Fitting the Linear Regression Model:**"
      ],
      "metadata": {
        "id": "wAOu3aTiRrvD"
      }
    },
    {
      "cell_type": "code",
      "source": [
        "model = LinearRegression()\n",
        "model.fit(x,y)"
      ],
      "metadata": {
        "colab": {
          "base_uri": "https://localhost:8080/",
          "height": 75
        },
        "id": "SXw3gdPZR2sV",
        "outputId": "338ecbf4-e528-47f1-d109-3158343d6236"
      },
      "execution_count": null,
      "outputs": [
        {
          "output_type": "execute_result",
          "data": {
            "text/plain": [
              "LinearRegression()"
            ],
            "text/html": [
              "<style>#sk-container-id-1 {color: black;background-color: white;}#sk-container-id-1 pre{padding: 0;}#sk-container-id-1 div.sk-toggleable {background-color: white;}#sk-container-id-1 label.sk-toggleable__label {cursor: pointer;display: block;width: 100%;margin-bottom: 0;padding: 0.3em;box-sizing: border-box;text-align: center;}#sk-container-id-1 label.sk-toggleable__label-arrow:before {content: \"▸\";float: left;margin-right: 0.25em;color: #696969;}#sk-container-id-1 label.sk-toggleable__label-arrow:hover:before {color: black;}#sk-container-id-1 div.sk-estimator:hover label.sk-toggleable__label-arrow:before {color: black;}#sk-container-id-1 div.sk-toggleable__content {max-height: 0;max-width: 0;overflow: hidden;text-align: left;background-color: #f0f8ff;}#sk-container-id-1 div.sk-toggleable__content pre {margin: 0.2em;color: black;border-radius: 0.25em;background-color: #f0f8ff;}#sk-container-id-1 input.sk-toggleable__control:checked~div.sk-toggleable__content {max-height: 200px;max-width: 100%;overflow: auto;}#sk-container-id-1 input.sk-toggleable__control:checked~label.sk-toggleable__label-arrow:before {content: \"▾\";}#sk-container-id-1 div.sk-estimator input.sk-toggleable__control:checked~label.sk-toggleable__label {background-color: #d4ebff;}#sk-container-id-1 div.sk-label input.sk-toggleable__control:checked~label.sk-toggleable__label {background-color: #d4ebff;}#sk-container-id-1 input.sk-hidden--visually {border: 0;clip: rect(1px 1px 1px 1px);clip: rect(1px, 1px, 1px, 1px);height: 1px;margin: -1px;overflow: hidden;padding: 0;position: absolute;width: 1px;}#sk-container-id-1 div.sk-estimator {font-family: monospace;background-color: #f0f8ff;border: 1px dotted black;border-radius: 0.25em;box-sizing: border-box;margin-bottom: 0.5em;}#sk-container-id-1 div.sk-estimator:hover {background-color: #d4ebff;}#sk-container-id-1 div.sk-parallel-item::after {content: \"\";width: 100%;border-bottom: 1px solid gray;flex-grow: 1;}#sk-container-id-1 div.sk-label:hover label.sk-toggleable__label {background-color: #d4ebff;}#sk-container-id-1 div.sk-serial::before {content: \"\";position: absolute;border-left: 1px solid gray;box-sizing: border-box;top: 0;bottom: 0;left: 50%;z-index: 0;}#sk-container-id-1 div.sk-serial {display: flex;flex-direction: column;align-items: center;background-color: white;padding-right: 0.2em;padding-left: 0.2em;position: relative;}#sk-container-id-1 div.sk-item {position: relative;z-index: 1;}#sk-container-id-1 div.sk-parallel {display: flex;align-items: stretch;justify-content: center;background-color: white;position: relative;}#sk-container-id-1 div.sk-item::before, #sk-container-id-1 div.sk-parallel-item::before {content: \"\";position: absolute;border-left: 1px solid gray;box-sizing: border-box;top: 0;bottom: 0;left: 50%;z-index: -1;}#sk-container-id-1 div.sk-parallel-item {display: flex;flex-direction: column;z-index: 1;position: relative;background-color: white;}#sk-container-id-1 div.sk-parallel-item:first-child::after {align-self: flex-end;width: 50%;}#sk-container-id-1 div.sk-parallel-item:last-child::after {align-self: flex-start;width: 50%;}#sk-container-id-1 div.sk-parallel-item:only-child::after {width: 0;}#sk-container-id-1 div.sk-dashed-wrapped {border: 1px dashed gray;margin: 0 0.4em 0.5em 0.4em;box-sizing: border-box;padding-bottom: 0.4em;background-color: white;}#sk-container-id-1 div.sk-label label {font-family: monospace;font-weight: bold;display: inline-block;line-height: 1.2em;}#sk-container-id-1 div.sk-label-container {text-align: center;}#sk-container-id-1 div.sk-container {/* jupyter's `normalize.less` sets `[hidden] { display: none; }` but bootstrap.min.css set `[hidden] { display: none !important; }` so we also need the `!important` here to be able to override the default hidden behavior on the sphinx rendered scikit-learn.org. See: https://github.com/scikit-learn/scikit-learn/issues/21755 */display: inline-block !important;position: relative;}#sk-container-id-1 div.sk-text-repr-fallback {display: none;}</style><div id=\"sk-container-id-1\" class=\"sk-top-container\"><div class=\"sk-text-repr-fallback\"><pre>LinearRegression()</pre><b>In a Jupyter environment, please rerun this cell to show the HTML representation or trust the notebook. <br />On GitHub, the HTML representation is unable to render, please try loading this page with nbviewer.org.</b></div><div class=\"sk-container\" hidden><div class=\"sk-item\"><div class=\"sk-estimator sk-toggleable\"><input class=\"sk-toggleable__control sk-hidden--visually\" id=\"sk-estimator-id-1\" type=\"checkbox\" checked><label for=\"sk-estimator-id-1\" class=\"sk-toggleable__label sk-toggleable__label-arrow\">LinearRegression</label><div class=\"sk-toggleable__content\"><pre>LinearRegression()</pre></div></div></div></div></div>"
            ]
          },
          "metadata": {},
          "execution_count": 6
        }
      ]
    },
    {
      "cell_type": "markdown",
      "source": [
        "**7. Getting Model Coefficients:**"
      ],
      "metadata": {
        "id": "9JFJNcqNSbEt"
      }
    },
    {
      "cell_type": "code",
      "source": [
        "slope = model.coef_[0]\n",
        "intercept = model.intercept_\n",
        "print(\"Slope: \", slope)\n",
        "print(\"Intercept: \", intercept)"
      ],
      "metadata": {
        "colab": {
          "base_uri": "https://localhost:8080/"
        },
        "id": "IGFEMygOScnk",
        "outputId": "636b3e85-33ab-4301-b8d7-a7ba7227661d"
      },
      "execution_count": null,
      "outputs": [
        {
          "output_type": "stream",
          "name": "stdout",
          "text": [
            "Slope:  [2.09174693]\n",
            "Intercept:  [-4.01148093]\n"
          ]
        }
      ]
    },
    {
      "cell_type": "markdown",
      "source": [
        "**8. Visualizing the Linear Regression Line:**"
      ],
      "metadata": {
        "id": "ZxPUW-EeTejE"
      }
    },
    {
      "cell_type": "code",
      "source": [
        "plt.scatter(x,y)\n",
        "plt.plot(x,model.predict(x), color='red')\n",
        "plt.xlabel('Independent Variable (X)')\n",
        "plt.ylabel('Dependent Variable (Y)')\n",
        "plt.title('Linear Regression')\n",
        "plt.show()"
      ],
      "metadata": {
        "colab": {
          "base_uri": "https://localhost:8080/",
          "height": 472
        },
        "id": "BNuLkelmTfG-",
        "outputId": "d6acb525-fbe8-4b21-9289-1f01329a1400"
      },
      "execution_count": null,
      "outputs": [
        {
          "output_type": "display_data",
          "data": {
            "text/plain": [
              "<Figure size 640x480 with 1 Axes>"
            ],
            "image/png": "[encoded data removed]"
          },
          "metadata": {}
        }
      ]
    },
    {
      "cell_type": "markdown",
      "source": [
        "**9. Making Predications:**"
      ],
      "metadata": {
        "id": "oPAI-votVk7k"
      }
    },
    {
      "cell_type": "code",
      "source": [
        "new_x = [[np.random.randint(100,200)]]\n",
        "predicted_y = model.predict(new_x)\n",
        "print('Value of X: ',new_x)\n",
        "print('Predicted y for new x: ',predicted_y)"
      ],
      "metadata": {
        "colab": {
          "base_uri": "https://localhost:8080/"
        },
        "id": "iKsD50A4Vo2s",
        "outputId": "29f31814-c9a5-4ac9-bf59-7f363040f11e"
      },
      "execution_count": null,
      "outputs": [
        {
          "output_type": "stream",
          "name": "stdout",
          "text": [
            "Value of X:  [[128]]\n",
            "Predicted y for new x:  [[263.73212664]]\n"
          ]
        },
        {
          "output_type": "stream",
          "name": "stderr",
          "text": [
            "/usr/local/lib/python3.10/dist-packages/sklearn/base.py:439: UserWarning: X does not have valid feature names, but LinearRegression was fitted with feature names\n",
            "  warnings.warn(\n"
          ]
        }
      ]
    },
    {
      "cell_type": "markdown",
      "source": [
        "NOTES:\n",
        "*  Predictor - independent\n",
        "*  Prediction - dependent"
      ],
      "metadata": {
        "id": "6Jw_WbpYRaCG"
      }
    }
  ]
}