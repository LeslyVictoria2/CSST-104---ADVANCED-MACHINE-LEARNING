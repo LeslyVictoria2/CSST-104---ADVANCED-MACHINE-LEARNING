{
  "nbformat": 4,
  "nbformat_minor": 0,
  "metadata": {
    "colab": {
      "provenance": [],
      "authorship_tag": "ABX9TyMgNOQRaJTol/0XxNnq63KK",
      "include_colab_link": true
    },
    "kernelspec": {
      "name": "python3",
      "display_name": "Python 3"
    },
    "language_info": {
      "name": "python"
    }
  },
  "cells": [
    {
      "cell_type": "markdown",
      "metadata": {
        "id": "view-in-github",
        "colab_type": "text"
      },
      "source": [
        "<a href=\"https://colab.research.google.com/github/LeslyVictoria2/CSST-104---ADVANCED-MACHINE-LEARNING/blob/main/3B_VICTORIA_EXER3.ipynb\" target=\"_parent\"><img src=\"https://colab.research.google.com/assets/colab-badge.svg\" alt=\"Open In Colab\"/></a>"
      ]
    },
    {
      "cell_type": "markdown",
      "source": [
        "# **CSST 104 - ADVANCED MACHINE LEARNING**"
      ],
      "metadata": {
        "id": "viCgBj1PQTje"
      }
    },
    {
      "cell_type": "markdown",
      "source": [
        "**LESLY-ANN B. VICTORIA from BSCS-IS-3B - ASSESSMENT TASK 3**"
      ],
      "metadata": {
        "id": "IX1Nns27ZvMb"
      }
    },
    {
      "cell_type": "markdown",
      "source": [
        "**1. Importing Libraries:**"
      ],
      "metadata": {
        "id": "RPFtDwVdBJ3w"
      }
    },
    {
      "cell_type": "code",
      "execution_count": null,
      "metadata": {
        "id": "t3agQDIoP_e3"
      },
      "outputs": [],
      "source": [
        "import pandas as pd #Data Manupilation\n",
        "import numpy as np #Mathematical or Numerical Operation\n",
        "import matplotlib.pyplot as plt #Data Visualization\n",
        "from sklearn.model_selection import train_test_split #Selection\n",
        "from sklearn.linear_model import LinearRegression #Training Data Modeling\n",
        "from sklearn.metrics import mean_squared_error"
      ]
    },
    {
      "cell_type": "markdown",
      "source": [
        "**2. Loading Dataset and Removing Dependent Variable:**"
      ],
      "metadata": {
        "id": "OYTMB0nRBK7S"
      }
    },
    {
      "cell_type": "code",
      "source": [
        "dt = pd.read_csv('Lesson_4_student_grades_dataset.csv')\n",
        "x = dt.drop('Grades', axis=1)\n",
        "y = dt['Grades']\n",
        "print(x)"
      ],
      "metadata": {
        "colab": {
          "base_uri": "https://localhost:8080/"
        },
        "id": "YZS1nphMVvzt",
        "outputId": "f3e4fc36-1628-4f1d-ebb3-23f9472c8b48"
      },
      "execution_count": null,
      "outputs": [
        {
          "output_type": "stream",
          "name": "stdout",
          "text": [
            "     Hours_of_Study  Attendance_Percentage  Previous_Exam_Scores  \\\n",
            "0          4.370861              75.553988             63.085284   \n",
            "1          9.556429              86.257028             62.348940   \n",
            "2          7.587945              96.188375             95.312729   \n",
            "3          6.387926              91.966747             62.477310   \n",
            "4          2.404168              94.196834             63.597486   \n",
            "..              ...                    ...                   ...   \n",
            "995        1.824239              89.708655             93.264788   \n",
            "996        9.255822              98.698439             57.863660   \n",
            "997        2.231368              72.068740             65.489393   \n",
            "998        9.552136              71.711642             64.502277   \n",
            "999        5.014052              78.465612             93.570702   \n",
            "\n",
            "     Extracurricular_Activities  Travel_Time_to_School  \n",
            "0                             0              24.325977  \n",
            "1                             0              50.132016  \n",
            "2                             0              59.861895  \n",
            "3                             1              11.501300  \n",
            "4                             0              54.868293  \n",
            "..                          ...                    ...  \n",
            "995                           1              40.505396  \n",
            "996                           1              34.408884  \n",
            "997                           0              16.659106  \n",
            "998                           0              23.066651  \n",
            "999                           0              30.954974  \n",
            "\n",
            "[1000 rows x 5 columns]\n"
          ]
        }
      ]
    },
    {
      "cell_type": "markdown",
      "source": [
        "**3. Converting to DataFrame:**"
      ],
      "metadata": {
        "id": "a88FPcjXB9Tz"
      }
    },
    {
      "cell_type": "code",
      "source": [
        "x_train, x_test, y_train, y_test = train_test_split(x, y, test_size=0.2)\n",
        "dt.head()"
      ],
      "metadata": {
        "colab": {
          "base_uri": "https://localhost:8080/",
          "height": 206
        },
        "id": "7sZJger__x7k",
        "outputId": "e48df5ab-30f5-434e-c4a6-afdf7f11dba4"
      },
      "execution_count": null,
      "outputs": [
        {
          "output_type": "execute_result",
          "data": {
            "text/plain": [
              "   Hours_of_Study  Attendance_Percentage  Previous_Exam_Scores  \\\n",
              "0        4.370861              75.553988             63.085284   \n",
              "1        9.556429              86.257028             62.348940   \n",
              "2        7.587945              96.188375             95.312729   \n",
              "3        6.387926              91.966747             62.477310   \n",
              "4        2.404168              94.196834             63.597486   \n",
              "\n",
              "   Extracurricular_Activities  Travel_Time_to_School     Grades  \n",
              "0                           0              24.325977  31.494329  \n",
              "1                           0              50.132016  43.250150  \n",
              "2                           0              59.861895  30.155663  \n",
              "3                           1              11.501300  39.617522  \n",
              "4                           0              54.868293  33.175874  "
            ],
            "text/html": [
              "\n",
              "  <div id=\"df-39b34674-8991-4e20-988e-37e685341a6b\" class=\"colab-df-container\">\n",
              "    <div>\n",
              "<style scoped>\n",
              "    .dataframe tbody tr th:only-of-type {\n",
              "        vertical-align: middle;\n",
              "    }\n",
              "\n",
              "    .dataframe tbody tr th {\n",
              "        vertical-align: top;\n",
              "    }\n",
              "\n",
              "    .dataframe thead th {\n",
              "        text-align: right;\n",
              "    }\n",
              "</style>\n",
              "<table border=\"1\" class=\"dataframe\">\n",
              "  <thead>\n",
              "    <tr style=\"text-align: right;\">\n",
              "      <th></th>\n",
              "      <th>Hours_of_Study</th>\n",
              "      <th>Attendance_Percentage</th>\n",
              "      <th>Previous_Exam_Scores</th>\n",
              "      <th>Extracurricular_Activities</th>\n",
              "      <th>Travel_Time_to_School</th>\n",
              "      <th>Grades</th>\n",
              "    </tr>\n",
              "  </thead>\n",
              "  <tbody>\n",
              "    <tr>\n",
              "      <th>0</th>\n",
              "      <td>4.370861</td>\n",
              "      <td>75.553988</td>\n",
              "      <td>63.085284</td>\n",
              "      <td>0</td>\n",
              "      <td>24.325977</td>\n",
              "      <td>31.494329</td>\n",
              "    </tr>\n",
              "    <tr>\n",
              "      <th>1</th>\n",
              "      <td>9.556429</td>\n",
              "      <td>86.257028</td>\n",
              "      <td>62.348940</td>\n",
              "      <td>0</td>\n",
              "      <td>50.132016</td>\n",
              "      <td>43.250150</td>\n",
              "    </tr>\n",
              "    <tr>\n",
              "      <th>2</th>\n",
              "      <td>7.587945</td>\n",
              "      <td>96.188375</td>\n",
              "      <td>95.312729</td>\n",
              "      <td>0</td>\n",
              "      <td>59.861895</td>\n",
              "      <td>30.155663</td>\n",
              "    </tr>\n",
              "    <tr>\n",
              "      <th>3</th>\n",
              "      <td>6.387926</td>\n",
              "      <td>91.966747</td>\n",
              "      <td>62.477310</td>\n",
              "      <td>1</td>\n",
              "      <td>11.501300</td>\n",
              "      <td>39.617522</td>\n",
              "    </tr>\n",
              "    <tr>\n",
              "      <th>4</th>\n",
              "      <td>2.404168</td>\n",
              "      <td>94.196834</td>\n",
              "      <td>63.597486</td>\n",
              "      <td>0</td>\n",
              "      <td>54.868293</td>\n",
              "      <td>33.175874</td>\n",
              "    </tr>\n",
              "  </tbody>\n",
              "</table>\n",
              "</div>\n",
              "    <div class=\"colab-df-buttons\">\n",
              "\n",
              "  <div class=\"colab-df-container\">\n",
              "    <button class=\"colab-df-convert\" onclick=\"convertToInteractive('df-39b34674-8991-4e20-988e-37e685341a6b')\"\n",
              "            title=\"Convert this dataframe to an interactive table.\"\n",
              "            style=\"display:none;\">\n",
              "\n",
              "  <svg xmlns=\"http://www.w3.org/2000/svg\" height=\"24px\" viewBox=\"0 -960 960 960\">\n",
              "    <path d=\"M120-120v-720h720v720H120Zm60-500h600v-160H180v160Zm220 220h160v-160H400v160Zm0 220h160v-160H400v160ZM180-400h160v-160H180v160Zm440 0h160v-160H620v160ZM180-180h160v-160H180v160Zm440 0h160v-160H620v160Z\"/>\n",
              "  </svg>\n",
              "    </button>\n",
              "\n",
              "  <style>\n",
              "    .colab-df-container {\n",
              "      display:flex;\n",
              "      gap: 12px;\n",
              "    }\n",
              "\n",
              "    .colab-df-convert {\n",
              "      background-color: #E8F0FE;\n",
              "      border: none;\n",
              "      border-radius: 50%;\n",
              "      cursor: pointer;\n",
              "      display: none;\n",
              "      fill: #1967D2;\n",
              "      height: 32px;\n",
              "      padding: 0 0 0 0;\n",
              "      width: 32px;\n",
              "    }\n",
              "\n",
              "    .colab-df-convert:hover {\n",
              "      background-color: #E2EBFA;\n",
              "      box-shadow: 0px 1px 2px rgba(60, 64, 67, 0.3), 0px 1px 3px 1px rgba(60, 64, 67, 0.15);\n",
              "      fill: #174EA6;\n",
              "    }\n",
              "\n",
              "    .colab-df-buttons div {\n",
              "      margin-bottom: 4px;\n",
              "    }\n",
              "\n",
              "    [theme=dark] .colab-df-convert {\n",
              "      background-color: #3B4455;\n",
              "      fill: #D2E3FC;\n",
              "    }\n",
              "\n",
              "    [theme=dark] .colab-df-convert:hover {\n",
              "      background-color: #434B5C;\n",
              "      box-shadow: 0px 1px 3px 1px rgba(0, 0, 0, 0.15);\n",
              "      filter: drop-shadow(0px 1px 2px rgba(0, 0, 0, 0.3));\n",
              "      fill: #FFFFFF;\n",
              "    }\n",
              "  </style>\n",
              "\n",
              "    <script>\n",
              "      const buttonEl =\n",
              "        document.querySelector('#df-39b34674-8991-4e20-988e-37e685341a6b button.colab-df-convert');\n",
              "      buttonEl.style.display =\n",
              "        google.colab.kernel.accessAllowed ? 'block' : 'none';\n",
              "\n",
              "      async function convertToInteractive(key) {\n",
              "        const element = document.querySelector('#df-39b34674-8991-4e20-988e-37e685341a6b');\n",
              "        const dataTable =\n",
              "          await google.colab.kernel.invokeFunction('convertToInteractive',\n",
              "                                                    [key], {});\n",
              "        if (!dataTable) return;\n",
              "\n",
              "        const docLinkHtml = 'Like what you see? Visit the ' +\n",
              "          '<a target=\"_blank\" href=https://colab.research.google.com/notebooks/data_table.ipynb>data table notebook</a>'\n",
              "          + ' to learn more about interactive tables.';\n",
              "        element.innerHTML = '';\n",
              "        dataTable['output_type'] = 'display_data';\n",
              "        await google.colab.output.renderOutput(dataTable, element);\n",
              "        const docLink = document.createElement('div');\n",
              "        docLink.innerHTML = docLinkHtml;\n",
              "        element.appendChild(docLink);\n",
              "      }\n",
              "    </script>\n",
              "  </div>\n",
              "\n",
              "\n",
              "<div id=\"df-2b4b8c0f-e2f1-4f90-a36d-316abe5ba977\">\n",
              "  <button class=\"colab-df-quickchart\" onclick=\"quickchart('df-2b4b8c0f-e2f1-4f90-a36d-316abe5ba977')\"\n",
              "            title=\"Suggest charts\"\n",
              "            style=\"display:none;\">\n",
              "\n",
              "<svg xmlns=\"http://www.w3.org/2000/svg\" height=\"24px\"viewBox=\"0 0 24 24\"\n",
              "     width=\"24px\">\n",
              "    <g>\n",
              "        <path d=\"M19 3H5c-1.1 0-2 .9-2 2v14c0 1.1.9 2 2 2h14c1.1 0 2-.9 2-2V5c0-1.1-.9-2-2-2zM9 17H7v-7h2v7zm4 0h-2V7h2v10zm4 0h-2v-4h2v4z\"/>\n",
              "    </g>\n",
              "</svg>\n",
              "  </button>\n",
              "\n",
              "<style>\n",
              "  .colab-df-quickchart {\n",
              "      --bg-color: #E8F0FE;\n",
              "      --fill-color: #1967D2;\n",
              "      --hover-bg-color: #E2EBFA;\n",
              "      --hover-fill-color: #174EA6;\n",
              "      --disabled-fill-color: #AAA;\n",
              "      --disabled-bg-color: #DDD;\n",
              "  }\n",
              "\n",
              "  [theme=dark] .colab-df-quickchart {\n",
              "      --bg-color: #3B4455;\n",
              "      --fill-color: #D2E3FC;\n",
              "      --hover-bg-color: #434B5C;\n",
              "      --hover-fill-color: #FFFFFF;\n",
              "      --disabled-bg-color: #3B4455;\n",
              "      --disabled-fill-color: #666;\n",
              "  }\n",
              "\n",
              "  .colab-df-quickchart {\n",
              "    background-color: var(--bg-color);\n",
              "    border: none;\n",
              "    border-radius: 50%;\n",
              "    cursor: pointer;\n",
              "    display: none;\n",
              "    fill: var(--fill-color);\n",
              "    height: 32px;\n",
              "    padding: 0;\n",
              "    width: 32px;\n",
              "  }\n",
              "\n",
              "  .colab-df-quickchart:hover {\n",
              "    background-color: var(--hover-bg-color);\n",
              "    box-shadow: 0 1px 2px rgba(60, 64, 67, 0.3), 0 1px 3px 1px rgba(60, 64, 67, 0.15);\n",
              "    fill: var(--button-hover-fill-color);\n",
              "  }\n",
              "\n",
              "  .colab-df-quickchart-complete:disabled,\n",
              "  .colab-df-quickchart-complete:disabled:hover {\n",
              "    background-color: var(--disabled-bg-color);\n",
              "    fill: var(--disabled-fill-color);\n",
              "    box-shadow: none;\n",
              "  }\n",
              "\n",
              "  .colab-df-spinner {\n",
              "    border: 2px solid var(--fill-color);\n",
              "    border-color: transparent;\n",
              "    border-bottom-color: var(--fill-color);\n",
              "    animation:\n",
              "      spin 1s steps(1) infinite;\n",
              "  }\n",
              "\n",
              "  @keyframes spin {\n",
              "    0% {\n",
              "      border-color: transparent;\n",
              "      border-bottom-color: var(--fill-color);\n",
              "      border-left-color: var(--fill-color);\n",
              "    }\n",
              "    20% {\n",
              "      border-color: transparent;\n",
              "      border-left-color: var(--fill-color);\n",
              "      border-top-color: var(--fill-color);\n",
              "    }\n",
              "    30% {\n",
              "      border-color: transparent;\n",
              "      border-left-color: var(--fill-color);\n",
              "      border-top-color: var(--fill-color);\n",
              "      border-right-color: var(--fill-color);\n",
              "    }\n",
              "    40% {\n",
              "      border-color: transparent;\n",
              "      border-right-color: var(--fill-color);\n",
              "      border-top-color: var(--fill-color);\n",
              "    }\n",
              "    60% {\n",
              "      border-color: transparent;\n",
              "      border-right-color: var(--fill-color);\n",
              "    }\n",
              "    80% {\n",
              "      border-color: transparent;\n",
              "      border-right-color: var(--fill-color);\n",
              "      border-bottom-color: var(--fill-color);\n",
              "    }\n",
              "    90% {\n",
              "      border-color: transparent;\n",
              "      border-bottom-color: var(--fill-color);\n",
              "    }\n",
              "  }\n",
              "</style>\n",
              "\n",
              "  <script>\n",
              "    async function quickchart(key) {\n",
              "      const quickchartButtonEl =\n",
              "        document.querySelector('#' + key + ' button');\n",
              "      quickchartButtonEl.disabled = true;  // To prevent multiple clicks.\n",
              "      quickchartButtonEl.classList.add('colab-df-spinner');\n",
              "      try {\n",
              "        const charts = await google.colab.kernel.invokeFunction(\n",
              "            'suggestCharts', [key], {});\n",
              "      } catch (error) {\n",
              "        console.error('Error during call to suggestCharts:', error);\n",
              "      }\n",
              "      quickchartButtonEl.classList.remove('colab-df-spinner');\n",
              "      quickchartButtonEl.classList.add('colab-df-quickchart-complete');\n",
              "    }\n",
              "    (() => {\n",
              "      let quickchartButtonEl =\n",
              "        document.querySelector('#df-2b4b8c0f-e2f1-4f90-a36d-316abe5ba977 button');\n",
              "      quickchartButtonEl.style.display =\n",
              "        google.colab.kernel.accessAllowed ? 'block' : 'none';\n",
              "    })();\n",
              "  </script>\n",
              "</div>\n",
              "    </div>\n",
              "  </div>\n"
            ],
            "application/vnd.google.colaboratory.intrinsic+json": {
              "type": "dataframe",
              "variable_name": "dt",
              "summary": "{\n  \"name\": \"dt\",\n  \"rows\": 1000,\n  \"fields\": [\n    {\n      \"column\": \"Hours_of_Study\",\n      \"properties\": {\n        \"dtype\": \"number\",\n        \"std\": 2.629236257527374,\n        \"min\": 1.0416882070414255,\n        \"max\": 9.997459059575176,\n        \"num_unique_values\": 1000,\n        \"samples\": [\n          4.428017709679194,\n          8.349394955244193,\n          5.164118071026458\n        ],\n        \"semantic_type\": \"\",\n        \"description\": \"\"\n      }\n    },\n    {\n      \"column\": \"Attendance_Percentage\",\n      \"properties\": {\n        \"dtype\": \"number\",\n        \"std\": 8.765696802094674,\n        \"min\": 70.09654790812836,\n        \"max\": 99.98241177312,\n        \"num_unique_values\": 1000,\n        \"samples\": [\n          98.03308080416542,\n          75.83867535462295,\n          94.82613686700624\n        ],\n        \"semantic_type\": \"\",\n        \"description\": \"\"\n      }\n    },\n    {\n      \"column\": \"Previous_Exam_Scores\",\n      \"properties\": {\n        \"dtype\": \"number\",\n        \"std\": 14.533709774852394,\n        \"min\": 50.00058173776831,\n        \"max\": 99.89104278409891,\n        \"num_unique_values\": 1000,\n        \"samples\": [\n          56.72175647040609,\n          77.22411664001315,\n          68.28403741306857\n        ],\n        \"semantic_type\": \"\",\n        \"description\": \"\"\n      }\n    },\n    {\n      \"column\": \"Extracurricular_Activities\",\n      \"properties\": {\n        \"dtype\": \"number\",\n        \"std\": 0,\n        \"min\": 0,\n        \"max\": 1,\n        \"num_unique_values\": 2,\n        \"samples\": [\n          1,\n          0\n        ],\n        \"semantic_type\": \"\",\n        \"description\": \"\"\n      }\n    },\n    {\n      \"column\": \"Travel_Time_to_School\",\n      \"properties\": {\n        \"dtype\": \"number\",\n        \"std\": 14.315794287743444,\n        \"min\": 10.00153594226912,\n        \"max\": 59.97788516252193,\n        \"num_unique_values\": 1000,\n        \"samples\": [\n          22.026579259007438,\n          48.32636581108136\n        ],\n        \"semantic_type\": \"\",\n        \"description\": \"\"\n      }\n    },\n    {\n      \"column\": \"Grades\",\n      \"properties\": {\n        \"dtype\": \"number\",\n        \"std\": 7.096682822057182,\n        \"min\": 15.766457044094636,\n        \"max\": 59.55061879483358,\n        \"num_unique_values\": 1000,\n        \"samples\": [\n          37.18827977003046,\n          35.17397729954957\n        ],\n        \"semantic_type\": \"\",\n        \"description\": \"\"\n      }\n    }\n  ]\n}"
            }
          },
          "metadata": {},
          "execution_count": 3
        }
      ]
    },
    {
      "cell_type": "markdown",
      "source": [
        "**4. Initializing and Fitting the Linear Regression Model:**"
      ],
      "metadata": {
        "id": "m4Gh-T_lCn4e"
      }
    },
    {
      "cell_type": "code",
      "source": [
        "model = LinearRegression()\n",
        "model.fit(x_train, y_train)"
      ],
      "metadata": {
        "colab": {
          "base_uri": "https://localhost:8080/",
          "height": 75
        },
        "id": "aPJHEEqYVx9s",
        "outputId": "91e7a05b-02d9-4853-86c3-9158fcb48403"
      },
      "execution_count": null,
      "outputs": [
        {
          "output_type": "execute_result",
          "data": {
            "text/plain": [
              "LinearRegression()"
            ],
            "text/html": [
              "<style>#sk-container-id-1 {color: black;background-color: white;}#sk-container-id-1 pre{padding: 0;}#sk-container-id-1 div.sk-toggleable {background-color: white;}#sk-container-id-1 label.sk-toggleable__label {cursor: pointer;display: block;width: 100%;margin-bottom: 0;padding: 0.3em;box-sizing: border-box;text-align: center;}#sk-container-id-1 label.sk-toggleable__label-arrow:before {content: \"▸\";float: left;margin-right: 0.25em;color: #696969;}#sk-container-id-1 label.sk-toggleable__label-arrow:hover:before {color: black;}#sk-container-id-1 div.sk-estimator:hover label.sk-toggleable__label-arrow:before {color: black;}#sk-container-id-1 div.sk-toggleable__content {max-height: 0;max-width: 0;overflow: hidden;text-align: left;background-color: #f0f8ff;}#sk-container-id-1 div.sk-toggleable__content pre {margin: 0.2em;color: black;border-radius: 0.25em;background-color: #f0f8ff;}#sk-container-id-1 input.sk-toggleable__control:checked~div.sk-toggleable__content {max-height: 200px;max-width: 100%;overflow: auto;}#sk-container-id-1 input.sk-toggleable__control:checked~label.sk-toggleable__label-arrow:before {content: \"▾\";}#sk-container-id-1 div.sk-estimator input.sk-toggleable__control:checked~label.sk-toggleable__label {background-color: #d4ebff;}#sk-container-id-1 div.sk-label input.sk-toggleable__control:checked~label.sk-toggleable__label {background-color: #d4ebff;}#sk-container-id-1 input.sk-hidden--visually {border: 0;clip: rect(1px 1px 1px 1px);clip: rect(1px, 1px, 1px, 1px);height: 1px;margin: -1px;overflow: hidden;padding: 0;position: absolute;width: 1px;}#sk-container-id-1 div.sk-estimator {font-family: monospace;background-color: #f0f8ff;border: 1px dotted black;border-radius: 0.25em;box-sizing: border-box;margin-bottom: 0.5em;}#sk-container-id-1 div.sk-estimator:hover {background-color: #d4ebff;}#sk-container-id-1 div.sk-parallel-item::after {content: \"\";width: 100%;border-bottom: 1px solid gray;flex-grow: 1;}#sk-container-id-1 div.sk-label:hover label.sk-toggleable__label {background-color: #d4ebff;}#sk-container-id-1 div.sk-serial::before {content: \"\";position: absolute;border-left: 1px solid gray;box-sizing: border-box;top: 0;bottom: 0;left: 50%;z-index: 0;}#sk-container-id-1 div.sk-serial {display: flex;flex-direction: column;align-items: center;background-color: white;padding-right: 0.2em;padding-left: 0.2em;position: relative;}#sk-container-id-1 div.sk-item {position: relative;z-index: 1;}#sk-container-id-1 div.sk-parallel {display: flex;align-items: stretch;justify-content: center;background-color: white;position: relative;}#sk-container-id-1 div.sk-item::before, #sk-container-id-1 div.sk-parallel-item::before {content: \"\";position: absolute;border-left: 1px solid gray;box-sizing: border-box;top: 0;bottom: 0;left: 50%;z-index: -1;}#sk-container-id-1 div.sk-parallel-item {display: flex;flex-direction: column;z-index: 1;position: relative;background-color: white;}#sk-container-id-1 div.sk-parallel-item:first-child::after {align-self: flex-end;width: 50%;}#sk-container-id-1 div.sk-parallel-item:last-child::after {align-self: flex-start;width: 50%;}#sk-container-id-1 div.sk-parallel-item:only-child::after {width: 0;}#sk-container-id-1 div.sk-dashed-wrapped {border: 1px dashed gray;margin: 0 0.4em 0.5em 0.4em;box-sizing: border-box;padding-bottom: 0.4em;background-color: white;}#sk-container-id-1 div.sk-label label {font-family: monospace;font-weight: bold;display: inline-block;line-height: 1.2em;}#sk-container-id-1 div.sk-label-container {text-align: center;}#sk-container-id-1 div.sk-container {/* jupyter's `normalize.less` sets `[hidden] { display: none; }` but bootstrap.min.css set `[hidden] { display: none !important; }` so we also need the `!important` here to be able to override the default hidden behavior on the sphinx rendered scikit-learn.org. See: https://github.com/scikit-learn/scikit-learn/issues/21755 */display: inline-block !important;position: relative;}#sk-container-id-1 div.sk-text-repr-fallback {display: none;}</style><div id=\"sk-container-id-1\" class=\"sk-top-container\"><div class=\"sk-text-repr-fallback\"><pre>LinearRegression()</pre><b>In a Jupyter environment, please rerun this cell to show the HTML representation or trust the notebook. <br />On GitHub, the HTML representation is unable to render, please try loading this page with nbviewer.org.</b></div><div class=\"sk-container\" hidden><div class=\"sk-item\"><div class=\"sk-estimator sk-toggleable\"><input class=\"sk-toggleable__control sk-hidden--visually\" id=\"sk-estimator-id-1\" type=\"checkbox\" checked><label for=\"sk-estimator-id-1\" class=\"sk-toggleable__label sk-toggleable__label-arrow\">LinearRegression</label><div class=\"sk-toggleable__content\"><pre>LinearRegression()</pre></div></div></div></div></div>"
            ]
          },
          "metadata": {},
          "execution_count": 4
        }
      ]
    },
    {
      "cell_type": "markdown",
      "source": [
        "**5. Making Prediction:**"
      ],
      "metadata": {
        "id": "sqrv6ei8C1cG"
      }
    },
    {
      "cell_type": "code",
      "source": [
        "y_predicted = model.predict(x_test)\n",
        "print(x_test)\n",
        "print(y_predicted)"
      ],
      "metadata": {
        "id": "GR3kwjpeXsVW",
        "colab": {
          "base_uri": "https://localhost:8080/"
        },
        "outputId": "a8a243bd-c7d0-40aa-ee5c-afef4a48e2c6"
      },
      "execution_count": null,
      "outputs": [
        {
          "output_type": "stream",
          "name": "stdout",
          "text": [
            "     Hours_of_Study  Attendance_Percentage  Previous_Exam_Scores  \\\n",
            "344        4.586543              92.281196             97.086286   \n",
            "285        1.323480              85.531349             63.840715   \n",
            "337        7.332921              90.406847             68.452651   \n",
            "880        3.079673              90.666559             66.578235   \n",
            "967        3.674095              80.867063             78.103640   \n",
            "..              ...                    ...                   ...   \n",
            "890        7.500402              72.975343             66.609552   \n",
            "966        7.471413              75.534288             86.352838   \n",
            "228        9.028419              99.519329             64.861890   \n",
            "640        1.180641              86.198714             64.902610   \n",
            "85         3.926650              84.022045             74.890625   \n",
            "\n",
            "     Extracurricular_Activities  Travel_Time_to_School  \n",
            "344                           1              18.060941  \n",
            "285                           0              15.222726  \n",
            "337                           0              15.932188  \n",
            "880                           0              13.102071  \n",
            "967                           1              17.936838  \n",
            "..                          ...                    ...  \n",
            "890                           1              19.263843  \n",
            "966                           1              16.650490  \n",
            "228                           0              18.139549  \n",
            "640                           0              27.136546  \n",
            "85                            1              26.411655  \n",
            "\n",
            "[200 rows x 5 columns]\n",
            "[46.6406871  31.69818462 35.55397473 34.15260803 39.29621021 39.18457691\n",
            " 26.70106318 30.71812268 31.11853199 34.83530772 41.17596325 26.47769953\n",
            " 33.20252002 35.07363373 37.02044015 41.2005154  34.02178634 22.73833228\n",
            " 40.30054654 36.42819816 41.86714162 38.94311576 38.59426815 35.07282656\n",
            " 30.46202415 41.84780058 26.34651335 36.18007809 29.21353919 37.81306621\n",
            " 34.7081784  37.81318402 28.86656181 31.75727976 39.22295108 30.27050774\n",
            " 24.35484651 34.41801445 39.22718262 45.4532928  33.08029378 35.17018841\n",
            " 36.33671644 37.45881261 27.88307447 36.69349076 33.45173728 31.15802461\n",
            " 43.09753476 36.53864367 35.29803086 38.44464101 31.51559812 38.11344601\n",
            " 34.02885215 46.35040174 33.71996569 39.6681791  33.60966339 33.22469412\n",
            " 29.88471889 36.39961264 40.03078851 40.3506749  33.73822257 38.0361929\n",
            " 41.12424796 28.01289611 39.67193754 37.34676161 43.76778488 38.48443739\n",
            " 35.22622385 40.43711771 35.42226573 37.80647451 31.94412907 37.41673223\n",
            " 29.72523209 40.63696787 40.17997462 40.10732102 29.76119104 44.37813084\n",
            " 30.698353   44.27826611 47.52650997 29.8368286  38.94803299 35.07566326\n",
            " 41.71652274 31.80282601 37.10694056 40.56243141 28.34269477 26.59796267\n",
            " 37.3901076  40.5770736  39.4038252  29.88016848 35.27439063 31.51308328\n",
            " 40.71152413 33.50879038 30.35663016 36.73244697 34.05822833 35.85684232\n",
            " 34.92779139 36.86123161 35.74516416 38.2781704  31.84991411 41.60226093\n",
            " 42.33239842 35.46862863 47.31603589 45.28706451 38.65755742 42.33899367\n",
            " 42.09519104 37.7701688  33.08822933 32.82272774 32.04804403 33.65739053\n",
            " 22.66196066 42.4327011  33.79073145 44.92877348 38.35264217 30.8781519\n",
            " 44.25028564 35.85029273 27.29573265 36.1639516  38.86910546 31.05184\n",
            " 37.30152099 29.94366951 35.28611792 38.44617797 39.04256556 35.15972139\n",
            " 28.65840932 32.99641643 37.87691613 35.01143555 35.85074075 41.18877933\n",
            " 44.41464241 33.698143   47.91724956 28.87534899 33.09449873 38.44467519\n",
            " 34.00272733 38.2840328  47.26431909 35.22777782 40.84359437 31.3932502\n",
            " 27.48545794 47.09461253 37.46468732 29.13686508 41.12811242 36.19789029\n",
            " 41.6225699  38.91223184 29.51848905 42.57372416 39.25716827 39.94717171\n",
            " 36.83111308 37.90881723 31.67080716 37.06367309 32.09233769 37.25447224\n",
            " 31.97337298 34.77306781 36.21447565 35.19284097 33.23211255 37.23601661\n",
            " 42.72345045 46.69877291 27.82541671 30.5621685  33.32824195 37.73779107\n",
            " 46.73790485 42.42000449 28.49078314 35.79627715 41.41963906 36.89750275\n",
            " 31.02953235 38.51210149]\n"
          ]
        }
      ]
    },
    {
      "cell_type": "markdown",
      "source": [
        "**6. Calculating the Mean Squared Error:**"
      ],
      "metadata": {
        "id": "sGpz1dZHDG_4"
      }
    },
    {
      "cell_type": "code",
      "source": [
        "mse = mean_squared_error(y_test, y_predicted)\n",
        "print(f'Mean Squared Error',mse)"
      ],
      "metadata": {
        "colab": {
          "base_uri": "https://localhost:8080/"
        },
        "id": "U2vBDXZvXvTl",
        "outputId": "5ca1cb3b-3a0f-4be9-d348-fc1fe5007a47"
      },
      "execution_count": null,
      "outputs": [
        {
          "output_type": "stream",
          "name": "stdout",
          "text": [
            "Mean Squared Error 23.637936846751607\n"
          ]
        }
      ]
    },
    {
      "cell_type": "markdown",
      "source": [
        "**7. Predicting the Grade of New Student Grade:**"
      ],
      "metadata": {
        "id": "QafU-W3tDPTz"
      }
    },
    {
      "cell_type": "code",
      "source": [
        "new_student_grade = [[4,75,63,0,24]]\n",
        "predicted_grade = model.predict(new_student_grade)\n",
        "print(f\"Predicted Grade: {predicted_grade[0]}\")"
      ],
      "metadata": {
        "colab": {
          "base_uri": "https://localhost:8080/"
        },
        "id": "oryW0vC6YmWM",
        "outputId": "9e54f9c6-f98b-4509-ccd8-f07cc8d3ca71"
      },
      "execution_count": null,
      "outputs": [
        {
          "output_type": "stream",
          "name": "stdout",
          "text": [
            "Predicted Grade: 29.28696838874788\n"
          ]
        },
        {
          "output_type": "stream",
          "name": "stderr",
          "text": [
            "/usr/local/lib/python3.10/dist-packages/sklearn/base.py:439: UserWarning: X does not have valid feature names, but LinearRegression was fitted with feature names\n",
            "  warnings.warn(\n"
          ]
        }
      ]
    },
    {
      "cell_type": "markdown",
      "source": [
        "**8. Visualizing the Linear Regression Line:**"
      ],
      "metadata": {
        "id": "C7dii4k48UFE"
      }
    },
    {
      "cell_type": "code",
      "source": [
        "plt.scatter(x_test['Hours_of_Study'], y_test, color='darkblue', label='Actual Data')\n",
        "plt.plot(x_test['Hours_of_Study'], y_predicted, color='red', linewidth=3, label='Regression Line')\n",
        "plt.xlabel('Hours of Study')\n",
        "plt.ylabel('Grades')\n",
        "plt.legend()\n",
        "plt.title('Linear Regression Line')\n",
        "plt.show()"
      ],
      "metadata": {
        "colab": {
          "base_uri": "https://localhost:8080/",
          "height": 472
        },
        "id": "kvRvZqsF8Z4M",
        "outputId": "5c98b27f-8c3b-44eb-deea-c10a2af4b34a"
      },
      "execution_count": null,
      "outputs": [
        {
          "output_type": "display_data",
          "data": {
            "text/plain": [
              "<Figure size 640x480 with 1 Axes>"
            ],
            "image/png": "[encoded data removed]"
          },
          "metadata": {}
        }
      ]
    }
  ]
}